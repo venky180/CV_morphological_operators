{
 "cells": [
  {
   "cell_type": "code",
   "execution_count": 9,
   "id": "2794973a-7d1b-457c-8ff9-53219f232b3e",
   "metadata": {},
   "outputs": [],
   "source": [
    "from PIL import Image\n",
    "import numpy as np\n",
    "files = [\"palm.bmp\",\"gun.bmp\"]\n",
    "def dialation(p,kernel_size,padd,kernel):\n",
    "    # This function performs dilation operation on an image\n",
    "    # Inputs:\n",
    "    # - p: image to perform dilation on\n",
    "    # - kernel_size: size of the kernel to use for dilation\n",
    "    # - padd: amount of padding to apply to the image before performing dilation\n",
    "    # - kernel: the kernel to use for dilation\n",
    "    # Outputs:\n",
    "    # - p: the dilated image\n",
    "    # - count: the number of pixels in the image that were changed during dilation\n",
    "    p=np.pad(p,(padd,padd), 'constant', constant_values=(0))\n",
    "    count=0\n",
    "    for i in range(padd-1,p.shape[0]-padd):\n",
    "        for j in range(padd-1,p.shape[1]-padd):\n",
    "            filter_kernel = 0\n",
    "            for k in range(kernel_size):\n",
    "                for l in range(kernel_size):\n",
    "                    if kernel[k,l] == p[i-padd+1+k,j-padd+1+l]:\n",
    "                        filter_kernel = 1\n",
    "                        break\n",
    "            if filter_kernel == 1:\n",
    "                p[i,j] = 255\n",
    "                count+=1\n",
    "            else:\n",
    "                p[i,j] = 0\n",
    "    print(count)\n",
    "    return p\n",
    "\n",
    "# This function performs erosion operation on a binary image represented by p using a kernel of size kernel_size. \n",
    "# padd specifies the padding required for the image. The function counts the number of times the kernel can fit into \n",
    "# the image such that all the pixels of the kernel overlap with the corresponding pixels of the image, and sets the central\n",
    "# pixel of the kernel to 1 if all the pixels of the kernel overlap with the corresponding pixels of the image, otherwise sets \n",
    "# it to 0. The function returns the eroded binary image.\n",
    "\n",
    "def erosion(p,kernel_size,padd,kernel):\n",
    "    unique, counts = np.unique(np.array(kernel), return_counts=True)\n",
    "    ones=dict(zip(unique, counts))\n",
    "    kernel_ones=ones[1]\n",
    "    p=np.pad(p,(padd-1,padd-1), 'constant', constant_values=(0))\n",
    "    count=0\n",
    "    for i in range(padd-1,p.shape[0]-padd):\n",
    "        for j in range(padd-1,p.shape[1]-padd):\n",
    "            filter_kernel = 0\n",
    "            for k in range(kernel_size):\n",
    "                for l in range(kernel_size):\n",
    "                    if kernel[k,l] == p[i-padd+1+k,j-padd+1+l]:\n",
    "                        filter_kernel += 1\n",
    "            if filter_kernel == kernel_ones:\n",
    "                p[i,j] = 1\n",
    "                count+=1\n",
    "            else:\n",
    "                p[i,j] = 0\n",
    "    print(count)\n",
    "    return p\n",
    "\n",
    "def opening(p):\n",
    "    kernel_size=5\n",
    "    padd=int((kernel_size+1)/2)\n",
    "    kernel = np.array([[1,1,1,1,1], [1,0,1,0,0],  [0,1,1,0,0], [0,0,0,0,0],  [0,0,0,0,0]])\n",
    "    # kernel = np.ones((kernel_size,kernel_size),dtype=int)\n",
    "    p1=erosion(p,kernel_size,padd,kernel)\n",
    "    \n",
    "    kernel_size=5\n",
    "    padd=int((kernel_size+1)/2)\n",
    "    kernel = np.ones((kernel_size,kernel_size),dtype=int)\n",
    "    p2=dialation(p1,kernel_size,padd,kernel)\n",
    "    return p2\n",
    "\n",
    "def closing(p):\n",
    "    kernel_size=13\n",
    "    padd=int((kernel_size+1)/2)\n",
    "    kernel = np.ones((kernel_size,kernel_size),dtype=int)\n",
    "    # kernel = np.array([[0,1,0],[1,0,1],[0,1,0]])\n",
    "    p1=dialation(p,kernel_size,padd,kernel)\n",
    "    \n",
    "    kernel_size=3\n",
    "    padd=int((kernel_size+1)/2)\n",
    "    # kernel = np.array([[1,1,1,1,1], [1,0,1,0,0],  [1,0,1,0,0], [0,0,0,0,0],  [0,0,0,0,0]])\n",
    "    kernel = np.array([[1,1,0],[0,1,0],[0,0,0]])\n",
    "    p2=erosion(p1,kernel_size,padd,kernel)\n",
    "    return p2\n",
    "\n",
    "\n",
    "\n",
    "def boundary_following(image,file):\n",
    "    boundaries = []\n",
    "    visited = np.zeros_like(image)\n",
    "    for i in range(image.shape[0]):\n",
    "        for j in range(image.shape[1]):\n",
    "            if image[i, j] and not visited[i, j]:\n",
    "                boundary = []\n",
    "                current_pixel = (i, j)\n",
    "                direction = (-1, 0) \n",
    "                while current_pixel != (i, j) or not boundary:\n",
    "                    boundary.append(current_pixel)\n",
    "                    visited[current_pixel] = 1\n",
    "                    k = None\n",
    "                    for l in range(8):\n",
    "                        next_pixel = (current_pixel[0] + direction[0], current_pixel[1] + direction[1])\n",
    "                        if (0 <= next_pixel[0] < image.shape[0]) and (0 <= next_pixel[1] < image.shape[1]) and image[next_pixel] and not visited[next_pixel]:\n",
    "                            k = l\n",
    "                            break\n",
    "                        direction = (direction[1], -direction[0]) # Rotate direction counterclockwise\n",
    "                    current_pixel = (current_pixel[0] + direction[0], current_pixel[1] + direction[1])\n",
    "                    direction = (direction[1], -direction[0]) # Rotate direction counterclockwise\n",
    "                    if k is not None:\n",
    "                        direction = (direction[0], direction[1]) # Rotate direction clockwise k times\n",
    "                boundaries.append(boundary)\n",
    "                boundary_image = np.zeros_like(image)\n",
    "                for pixel in boundary:\n",
    "                    boundary_image[pixel] = 1\n",
    "                boundary_image = 1 - boundary_image\n",
    "                boundary_image = Image.fromarray(np.uint8(boundary_image * 255), mode='L')\n",
    "                filen = \"bound-\"+file+\".png\"\n",
    "                boundary_image.save(filen)\n",
    "\n",
    "    return boundaries"
   ]
  },
  {
   "cell_type": "code",
   "execution_count": 10,
   "id": "2dcbdcb7-f67f-43c3-8e52-4aabd9a274ac",
   "metadata": {},
   "outputs": [
    {
     "ename": "KeyboardInterrupt",
     "evalue": "",
     "output_type": "error",
     "traceback": [
      "\u001b[0;31m---------------------------------------------------------------------------\u001b[0m",
      "\u001b[0;31mKeyboardInterrupt\u001b[0m                         Traceback (most recent call last)",
      "Cell \u001b[0;32mIn[10], line 6\u001b[0m\n\u001b[1;32m      4\u001b[0m p \u001b[38;5;241m=\u001b[39m np\u001b[38;5;241m.\u001b[39marray(im)\n\u001b[1;32m      5\u001b[0m p\u001b[38;5;241m=\u001b[39mp\u001b[38;5;241m.\u001b[39mastype(\u001b[38;5;28mint\u001b[39m)\n\u001b[0;32m----> 6\u001b[0m b\u001b[38;5;241m=\u001b[39m\u001b[43mboundary_following\u001b[49m\u001b[43m(\u001b[49m\u001b[43mp\u001b[49m\u001b[43m,\u001b[49m\u001b[43mfile\u001b[49m\u001b[43m)\u001b[49m\n",
      "Cell \u001b[0;32mIn[9], line 103\u001b[0m, in \u001b[0;36mboundary_following\u001b[0;34m(image, file)\u001b[0m\n\u001b[1;32m    101\u001b[0m \u001b[38;5;28;01mfor\u001b[39;00m l \u001b[38;5;129;01min\u001b[39;00m \u001b[38;5;28mrange\u001b[39m(\u001b[38;5;241m8\u001b[39m):\n\u001b[1;32m    102\u001b[0m     next_pixel \u001b[38;5;241m=\u001b[39m (current_pixel[\u001b[38;5;241m0\u001b[39m] \u001b[38;5;241m+\u001b[39m direction[\u001b[38;5;241m0\u001b[39m], current_pixel[\u001b[38;5;241m1\u001b[39m] \u001b[38;5;241m+\u001b[39m direction[\u001b[38;5;241m1\u001b[39m])\n\u001b[0;32m--> 103\u001b[0m     \u001b[38;5;28;01mif\u001b[39;00m (\u001b[38;5;241m0\u001b[39m \u001b[38;5;241m<\u001b[39m\u001b[38;5;241m=\u001b[39m next_pixel[\u001b[38;5;241m0\u001b[39m] \u001b[38;5;241m<\u001b[39m image\u001b[38;5;241m.\u001b[39mshape[\u001b[38;5;241m0\u001b[39m]) \u001b[38;5;129;01mand\u001b[39;00m (\u001b[38;5;241m0\u001b[39m \u001b[38;5;241m<\u001b[39m\u001b[38;5;241m=\u001b[39m next_pixel[\u001b[38;5;241m1\u001b[39m] \u001b[38;5;241m<\u001b[39m image\u001b[38;5;241m.\u001b[39mshape[\u001b[38;5;241m1\u001b[39m]) \u001b[38;5;129;01mand\u001b[39;00m image[next_pixel] \u001b[38;5;129;01mand\u001b[39;00m \u001b[38;5;129;01mnot\u001b[39;00m visited[next_pixel]:\n\u001b[1;32m    104\u001b[0m         k \u001b[38;5;241m=\u001b[39m l\n\u001b[1;32m    105\u001b[0m         \u001b[38;5;28;01mbreak\u001b[39;00m\n",
      "\u001b[0;31mKeyboardInterrupt\u001b[0m: "
     ]
    }
   ],
   "source": [
    "files = [\"clo-palm.bmp.png\",\"cl-gun.bmp.png\"]\n",
    "for file in files:\n",
    "    im = Image.open(file)\n",
    "    p = np.array(im)\n",
    "    p=p.astype(int)\n",
    "    b=boundary_following(p,file)"
   ]
  },
  {
   "cell_type": "code",
   "execution_count": null,
   "id": "ec3ed21c-280b-4769-b2a5-b031a6ae47a6",
   "metadata": {},
   "outputs": [],
   "source": []
  },
  {
   "cell_type": "code",
   "execution_count": 3,
   "id": "8aecb0a7-ea34-4801-a4e1-b7f7c360a7d1",
   "metadata": {},
   "outputs": [
    {
     "name": "stdout",
     "output_type": "stream",
     "text": [
      "4552\n",
      "1756\n",
      "3760\n",
      "1517\n"
     ]
    }
   ],
   "source": [
    "for file in files:\n",
    "    im = Image.open(file)\n",
    "    p = np.array(im)\n",
    "    p=p.astype(int)\n",
    "    p=closing(p)\n",
    "    p[p==1]=255\n",
    "    img = Image.fromarray(p.astype(np.uint8))\n",
    "    filen = \"clo-\"+file+\".png\"\n",
    "    img.save(filen)"
   ]
  },
  {
   "cell_type": "code",
   "execution_count": 4,
   "id": "1408ea68-9377-4319-aacb-fca425461c42",
   "metadata": {},
   "outputs": [
    {
     "name": "stdout",
     "output_type": "stream",
     "text": [
      "3675\n",
      "2802\n"
     ]
    }
   ],
   "source": [
    "for file in files:\n",
    "    kernel_size=7\n",
    "    padd=int((kernel_size+1)/2)\n",
    "    kernel = np.ones((kernel_size,kernel_size),dtype=int)\n",
    "    # kernel = np.array([[0,1,0],[0,1,0],[0,1,0]])\n",
    "    im = Image.open(file)\n",
    "    p = np.array(im)\n",
    "    p=p.astype(int)\n",
    "    p=dialation(p,kernel_size,padd,kernel)\n",
    "    p[p==1]=255\n",
    "    img = Image.fromarray(p.astype(np.uint8))\n",
    "    filen = \"dia-\"+file+\".png\"\n",
    "    img.save(filen)"
   ]
  },
  {
   "cell_type": "code",
   "execution_count": 5,
   "id": "4536da9b-4975-4459-a980-8deec2232485",
   "metadata": {},
   "outputs": [
    {
     "name": "stdout",
     "output_type": "stream",
     "text": [
      "299\n",
      "1945\n",
      "222\n",
      "1441\n"
     ]
    }
   ],
   "source": [
    "for file in files:\n",
    "    im = Image.open(file)\n",
    "    p = np.array(im)\n",
    "    p=p.astype(int)\n",
    "    p=opening(p)\n",
    "    p[p==1]=255\n",
    "    img = Image.fromarray(p.astype(np.uint8))\n",
    "    filen = \"ope-\"+file+\".png\"\n",
    "    img.save(filen)"
   ]
  },
  {
   "cell_type": "code",
   "execution_count": 7,
   "id": "5035965d-855f-42fa-b18d-a4ceda60bba2",
   "metadata": {},
   "outputs": [
    {
     "name": "stdout",
     "output_type": "stream",
     "text": [
      "284\n",
      "204\n"
     ]
    }
   ],
   "source": [
    "for file in files:\n",
    "    kernel_size=5\n",
    "    padd=int((kernel_size+1)/2)\n",
    "    kernel = np.array([[1,1,1,1,1], [1,0,1,0,0],  [1,0,1,0,0], [0,0,0,0,0],  [0,0,0,0,0]])\n",
    "    # kernel = np.array([[1,1,1,1,1], [0,0,0,0,0],  [0,0,0,0,0], [0,0,0,0,0],  [0,0,0,0,0]])\n",
    "    # kernel = np.array([[1,1,1,1,1], [0,0,0,0,0],  [0,0,0,0,0], [0,0,0,0,0],  [0,0,0,0,0]])\n",
    "    # kernel = np.array([[1,1,1,1,1], [0,0,0,0,0],  [0,0,0,0,0], [0,0,0,0,0],  [0,0,0,0,0]])\n",
    "    im = Image.open(file)\n",
    "    p = np.array(im)\n",
    "    p=p.astype(int)\n",
    "    p=erosion(p,kernel_size,padd,kernel)\n",
    "    p[p==1]=255\n",
    "    img = Image.fromarray(p.astype(np.uint8))\n",
    "    filen = \"ero-\"+file+\".png\"\n",
    "    img.save(filen)"
   ]
  }
 ],
 "metadata": {
  "kernelspec": {
   "display_name": "Python 3 (ipykernel)",
   "language": "python",
   "name": "python3"
  },
  "language_info": {
   "codemirror_mode": {
    "name": "ipython",
    "version": 3
   },
   "file_extension": ".py",
   "mimetype": "text/x-python",
   "name": "python",
   "nbconvert_exporter": "python",
   "pygments_lexer": "ipython3",
   "version": "3.9.12"
  }
 },
 "nbformat": 4,
 "nbformat_minor": 5
}
